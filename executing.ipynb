{
 "cells": [
  {
   "cell_type": "code",
   "execution_count": 54,
   "id": "059e0354-6806-489a-b7a6-4f1c8b0b8334",
   "metadata": {},
   "outputs": [
    {
     "name": "stdout",
     "output_type": "stream",
     "text": [
      "C:\\Users\\abdulha6\\stor-601\\assessment_mdp_project\n"
     ]
    }
   ],
   "source": [
    "import os\n",
    "print(os.getcwd())\n"
   ]
  },
  {
   "cell_type": "code",
   "execution_count": 55,
   "id": "c5547fc8-c252-406c-986c-9540d17de8ec",
   "metadata": {},
   "outputs": [],
   "source": [
    "import sys\n",
    "import os\n",
    "\n",
    "# absolute path of project root\n",
    "project_root = os.path.abspath(\"../assessment_mdp_project\")  # Adjust this if needed\n",
    "\n",
    "# Add it to Python's module search path\n",
    "if project_root not in sys.path:\n",
    " sys.path.insert(0, project_root)\n",
    "\n",
    "from mdp_solver.value_iter import value_iteration\n"
   ]
  },
  {
   "cell_type": "code",
   "execution_count": 56,
   "id": "de6e0f81-f005-4d06-87fa-d75538fd3c47",
   "metadata": {},
   "outputs": [
    {
     "data": {
      "text/plain": [
       "'C:\\\\Users\\\\abdulha6\\\\stor-601\\\\assessment_mdp_project'"
      ]
     },
     "execution_count": 56,
     "metadata": {},
     "output_type": "execute_result"
    }
   ],
   "source": [
    "project_root"
   ]
  },
  {
   "cell_type": "code",
   "execution_count": 57,
   "id": "3ec8a07a-f297-4414-9294-ca8acf46716c",
   "metadata": {},
   "outputs": [
    {
     "data": {
      "text/plain": [
       "False"
      ]
     },
     "execution_count": 57,
     "metadata": {},
     "output_type": "execute_result"
    }
   ],
   "source": [
    "project_root not in sys.path"
   ]
  },
  {
   "cell_type": "code",
   "execution_count": 58,
   "id": "9bea4003-31c0-47b4-ae40-202d704bba80",
   "metadata": {},
   "outputs": [],
   "source": [
    "import mdp_solver\n",
    "#print(mdp_solver.__file__)"
   ]
  },
  {
   "cell_type": "code",
   "execution_count": 59,
   "id": "ff272848-5ea2-4c50-886e-079188f88ebf",
   "metadata": {},
   "outputs": [],
   "source": [
    "from mdp_solver.value_iter import value_iteration\n"
   ]
  },
  {
   "cell_type": "code",
   "execution_count": 60,
   "id": "9c5d094f-0523-4347-87b5-ffefa8c88436",
   "metadata": {},
   "outputs": [
    {
     "data": {
      "text/plain": [
       "['__builtins__',\n",
       " '__cached__',\n",
       " '__doc__',\n",
       " '__file__',\n",
       " '__loader__',\n",
       " '__name__',\n",
       " '__package__',\n",
       " '__path__',\n",
       " '__spec__',\n",
       " 'value_iter']"
      ]
     },
     "execution_count": 60,
     "metadata": {},
     "output_type": "execute_result"
    }
   ],
   "source": [
    "import mdp_solver  #replacing `mdp_solver` with your package's actual name\n",
    "\n",
    "dir(mdp_solver)\n"
   ]
  },
  {
   "cell_type": "code",
   "execution_count": 61,
   "id": "d5ef4cab-aca0-4b04-881d-d615079e44e0",
   "metadata": {},
   "outputs": [
    {
     "name": "stdout",
     "output_type": "stream",
     "text": [
      "Optimal Policy: {'healthy': 'party', 'sick': 'relax'}\n",
      "Optimal Values: {'healthy': 35.71428571428571, 'sick': 23.80952380952381}\n"
     ]
    }
   ],
   "source": [
    "#importing function from package.\n",
    "# Adjust the import if your file is named differently.\n",
    "from mdp_solver.value_iter import value_iteration\n",
    "\n",
    "# Define the MDP for Sam's problem\n",
    "states = ['healthy', 'sick']\n",
    "actions = ['relax', 'party']\n",
    "\n",
    "# Transition probabilities as given:\n",
    "transition_probs = {\n",
    "    'healthy': {\n",
    "        'relax': {'healthy': 0.95, 'sick': 0.05},\n",
    "        'party': {'healthy': 0.7, 'sick': 0.3}\n",
    "    },\n",
    "    'sick': {\n",
    "        'relax': {'healthy': 0.5, 'sick': 0.5},\n",
    "        'party': {'healthy': 0.1, 'sick': 0.9}\n",
    "    }\n",
    "}\n",
    "\n",
    "# Immediate rewards as given:\n",
    "rewards = {\n",
    "    ('healthy', 'relax'): 7,\n",
    "    ('healthy', 'party'): 10,\n",
    "    ('sick', 'relax'): 0,\n",
    "    ('sick', 'party'): 2\n",
    "}\n",
    "\n",
    "# Using a discount factor gamma = 0.8, as specified in the example.\n",
    "gamma = 0.8\n",
    "max_iter = 1000\n",
    "\n",
    "# Run value iteration\n",
    "policy, values = value_iteration(states, actions, transition_probs, rewards, gamma=gamma, max_iter=max_iter)\n",
    "\n",
    "print(\"Optimal Policy:\", policy)\n",
    "print(\"Optimal Values:\", values)\n"
   ]
  },
  {
   "cell_type": "code",
   "execution_count": 62,
   "id": "9683bc9b-42fc-4d0c-bc79-a27d91c6a096",
   "metadata": {},
   "outputs": [
    {
     "name": "stderr",
     "output_type": "stream",
     "text": [
      ".\n",
      "----------------------------------------------------------------------\n",
      "Ran 1 test in 0.002s\n",
      "\n",
      "OK\n"
     ]
    }
   ],
   "source": [
    "!python -m unittest discover mdp_solver/tests\n"
   ]
  },
  {
   "cell_type": "code",
   "execution_count": 63,
   "id": "79768e14-ab2d-496e-99cc-8fd8f8c87b6a",
   "metadata": {},
   "outputs": [
    {
     "name": "stdout",
     "output_type": "stream",
     "text": [
      "Sam's Optimal Policy: {'healthy': 'party', 'sick': 'relax'}\n",
      "Sam's Value Function: {'healthy': 67.07317073170725, 'sick': 54.87804878048775}\n"
     ]
    }
   ],
   "source": [
    "!python -m mdp_solver.examples\n"
   ]
  },
  {
   "cell_type": "code",
   "execution_count": 64,
   "id": "53c23c52-2d65-438c-ba21-490e9bbbb348",
   "metadata": {},
   "outputs": [
    {
     "name": "stdout",
     "output_type": "stream",
     "text": [
      "Reinitialized existing Git repository in C:/Users/abdulha6/stor-601/assessment_mdp_project/.git/\n"
     ]
    }
   ],
   "source": [
    "!git init\n"
   ]
  },
  {
   "cell_type": "code",
   "execution_count": 65,
   "id": "14060193-522c-4b22-87d0-1f94f65ead46",
   "metadata": {},
   "outputs": [
    {
     "name": "stderr",
     "output_type": "stream",
     "text": [
      "error: remote origin already exists.\n"
     ]
    }
   ],
   "source": [
    "!git remote add origin https://github.com/snz-lan/MDP_assess.git\n"
   ]
  },
  {
   "cell_type": "code",
   "execution_count": 46,
   "id": "0d427b64-1c9b-40ce-9d08-4dc4e0ebf5c5",
   "metadata": {},
   "outputs": [
    {
     "name": "stdout",
     "output_type": "stream",
     "text": [
      "origin\thttps://github.com/snz-lan/MDP_assess.git (fetch)\n",
      "origin\thttps://github.com/snz-lan/MDP_assess.git (push)\n"
     ]
    }
   ],
   "source": [
    "!git remote -v\n"
   ]
  },
  {
   "cell_type": "code",
   "execution_count": 48,
   "id": "56a53f90-4288-419b-9ef7-123447ca0378",
   "metadata": {},
   "outputs": [
    {
     "name": "stdout",
     "output_type": "stream",
     "text": [
      "[master (root-commit) 44aab90] Initial commit: Added mdp_solver package and tests\n",
      " 16 files changed, 615 insertions(+)\n",
      " create mode 100644 .ipynb_checkpoints/executing-checkpoint.ipynb\n",
      " create mode 100644 executing.ipynb\n",
      " create mode 100644 mdp_solver/.ipynb_checkpoints/README-checkpoint.md\n",
      " create mode 100644 mdp_solver/.ipynb_checkpoints/__init__-checkpoint.py\n",
      " create mode 100644 mdp_solver/.ipynb_checkpoints/examples-checkpoint.py\n",
      " create mode 100644 mdp_solver/.ipynb_checkpoints/value_iter-checkpoint.py\n",
      " create mode 100644 mdp_solver/README.md\n",
      " create mode 100644 mdp_solver/__init__.py\n",
      " create mode 100644 mdp_solver/__pycache__/__init__.cpython-312.pyc\n",
      " create mode 100644 mdp_solver/__pycache__/examples.cpython-312.pyc\n",
      " create mode 100644 mdp_solver/__pycache__/value_iter.cpython-312.pyc\n",
      " create mode 100644 mdp_solver/examples.py\n",
      " create mode 100644 mdp_solver/tests/.ipynb_checkpoints/test_value_iteration-checkpoint.py\n",
      " create mode 100644 mdp_solver/tests/__pycache__/test_value_iteration.cpython-312.pyc\n",
      " create mode 100644 mdp_solver/tests/test_value_iteration.py\n",
      " create mode 100644 mdp_solver/value_iter.py\n"
     ]
    }
   ],
   "source": [
    "!git add .\n",
    "!git commit -m \"Initial commit: Added mdp_solver package and tests\"\n"
   ]
  },
  {
   "cell_type": "code",
   "execution_count": 66,
   "id": "981424d4-fc12-4683-b633-e5d84077fb58",
   "metadata": {},
   "outputs": [
    {
     "name": "stdout",
     "output_type": "stream",
     "text": [
      "branch 'main' set up to track 'origin/main'."
     ]
    },
    {
     "name": "stderr",
     "output_type": "stream",
     "text": [
      "Everything up-to-date\n"
     ]
    },
    {
     "name": "stdout",
     "output_type": "stream",
     "text": [
      "\n"
     ]
    }
   ],
   "source": [
    "!git branch -M main\n",
    "!git push -u origin main\n"
   ]
  },
  {
   "cell_type": "code",
   "execution_count": 51,
   "id": "1505bc06-95c6-49d5-8b0d-e4ca82bb8cf4",
   "metadata": {},
   "outputs": [
    {
     "name": "stdout",
     "output_type": "stream",
     "text": [
      "[main 5bc4725] Added .gitignore\n",
      " 1 file changed, 3 insertions(+)\n",
      " create mode 100644 .gitignore\n"
     ]
    },
    {
     "name": "stderr",
     "output_type": "stream",
     "text": [
      "To https://github.com/snz-lan/MDP_assess.git\n",
      "   44aab90..5bc4725  main -> main\n"
     ]
    }
   ],
   "source": [
    "!echo \"__pycache__/\" > .gitignore\n",
    "!echo \"*.ipynb_checkpoints/\" >> .gitignore\n",
    "!echo \"venv/\" >> .gitignore\n",
    "!git add .gitignore\n",
    "!git commit -m \"Added .gitignore\"\n",
    "!git push\n"
   ]
  },
  {
   "cell_type": "code",
   "execution_count": 68,
   "id": "90fa3c0b-6676-43f5-b088-0be6f9a8ef67",
   "metadata": {},
   "outputs": [
    {
     "name": "stderr",
     "output_type": "stream",
     "text": [
      "fatal: pathspec '#' did not match any files\n"
     ]
    }
   ],
   "source": [
    "!git add setup.py  # or pyproject.toml\n"
   ]
  },
  {
   "cell_type": "code",
   "execution_count": null,
   "id": "b5d2b4b1-8383-41e6-a901-709cf524304b",
   "metadata": {},
   "outputs": [],
   "source": [
    "!git commit -m \"Added setup.py for Python package setup\"\n",
    "!git push\n"
   ]
  }
 ],
 "metadata": {
  "kernelspec": {
   "display_name": "Python 3 (ipykernel)",
   "language": "python",
   "name": "python3"
  },
  "language_info": {
   "codemirror_mode": {
    "name": "ipython",
    "version": 3
   },
   "file_extension": ".py",
   "mimetype": "text/x-python",
   "name": "python",
   "nbconvert_exporter": "python",
   "pygments_lexer": "ipython3",
   "version": "3.12.0"
  }
 },
 "nbformat": 4,
 "nbformat_minor": 5
}
