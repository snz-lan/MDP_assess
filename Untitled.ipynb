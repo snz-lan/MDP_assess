{
 "cells": [
  {
   "cell_type": "code",
   "execution_count": 2,
   "id": "3b74764b-c013-4874-b111-3372b2e4497d",
   "metadata": {},
   "outputs": [
    {
     "name": "stdout",
     "output_type": "stream",
     "text": [
      "Optimal Policy: {'healthy': 'party', 'sick': 'relax'}\n",
      "Optimal Values: {'healthy': 35.71428571428571, 'sick': 23.80952380952381}\n"
     ]
    }
   ],
   "source": [
    "from mdp_solver.value_iter import value_iteration\n",
    "\n",
    "# Defining the MDP for Sam's problem\n",
    "states = ['healthy', 'sick']\n",
    "actions = ['relax', 'party']\n",
    "\n",
    "# transition probabilities as given:\n",
    "transition_probs = {\n",
    "    'healthy': {\n",
    "        'relax': {'healthy': 0.95, 'sick': 0.05},\n",
    "        'party': {'healthy': 0.7, 'sick': 0.3}\n",
    "    },\n",
    "    'sick': {\n",
    "        'relax': {'healthy': 0.5, 'sick': 0.5},\n",
    "        'party': {'healthy': 0.1, 'sick': 0.9}\n",
    "    }\n",
    "}\n",
    "\n",
    "# imm. rewards as given:\n",
    "rewards = {\n",
    "    ('healthy', 'relax'): 7,\n",
    "    ('healthy', 'party'): 10,\n",
    "    ('sick', 'relax'): 0,\n",
    "    ('sick', 'party'): 2\n",
    "}\n",
    "\n",
    "# a discount factor gamma = 0.8, as specified in the example.\n",
    "gamma = 0.8\n",
    "max_iter = 1000\n",
    "\n",
    "# Run value iteration\n",
    "policy, values = value_iteration(states, actions, transition_probs, rewards, gamma=gamma, max_iter=max_iter)\n",
    "\n",
    "print(\"Optimal Policy:\", policy)\n",
    "print(\"Optimal Values:\", values)"
   ]
  },
  {
   "cell_type": "code",
   "execution_count": 4,
   "id": "9d44e75c-1a5d-49c7-ba35-ecdc2feb3fd6",
   "metadata": {},
   "outputs": [
    {
     "name": "stderr",
     "output_type": "stream",
     "text": [
      "E\n",
      "======================================================================\n",
      "ERROR: test_value_iteration (unittest.loader._FailedTest.test_value_iteration)\n",
      "----------------------------------------------------------------------\n",
      "ImportError: Failed to import test module: test_value_iteration\n",
      "Traceback (most recent call last):\n",
      "  File \"C:\\Users\\abdulha6\\.pyenv\\pyenv-win\\versions\\3.12.0\\Lib\\unittest\\loader.py\", line 129, in loadTestsFromName\n",
      "    module = __import__(module_name)\n",
      "             ^^^^^^^^^^^^^^^^^^^^^^^\n",
      "ModuleNotFoundError: No module named 'tests.test_value_iteration'\n",
      "\n",
      "\n",
      "----------------------------------------------------------------------\n",
      "Ran 1 test in 0.000s\n",
      "\n",
      "FAILED (errors=1)\n"
     ]
    }
   ],
   "source": [
    "!python -m unittest tests.test_value_iteration"
   ]
  },
  {
   "cell_type": "code",
   "execution_count": 7,
   "id": "97cd21a3-b642-416f-b027-8e13a15cb8aa",
   "metadata": {},
   "outputs": [
    {
     "name": "stdout",
     "output_type": "stream",
     "text": [
      "Sam's Optimal Policy: {'healthy': 'party', 'sick': 'relax'}\n",
      "Sam's Value Function: {'healthy': 67.07317073170725, 'sick': 54.87804878048775}\n"
     ]
    },
    {
     "name": "stderr",
     "output_type": "stream",
     "text": [
      "<frozen runpy>:128: RuntimeWarning: 'mdp_solver.examples' found in sys.modules after import of package 'mdp_solver', but prior to execution of 'mdp_solver.examples'; this may result in unpredictable behaviour\n"
     ]
    }
   ],
   "source": [
    "!python -m mdp_solver.examples\n"
   ]
  },
  {
   "cell_type": "code",
   "execution_count": null,
   "id": "2ce30279-3431-483c-ae3a-602112659b23",
   "metadata": {},
   "outputs": [],
   "source": []
  }
 ],
 "metadata": {
  "kernelspec": {
   "display_name": "Python 3 (ipykernel)",
   "language": "python",
   "name": "python3"
  },
  "language_info": {
   "codemirror_mode": {
    "name": "ipython",
    "version": 3
   },
   "file_extension": ".py",
   "mimetype": "text/x-python",
   "name": "python",
   "nbconvert_exporter": "python",
   "pygments_lexer": "ipython3",
   "version": "3.12.0"
  }
 },
 "nbformat": 4,
 "nbformat_minor": 5
}
